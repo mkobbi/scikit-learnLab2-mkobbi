{
 "cells": [
  {
   "cell_type": "code",
   "execution_count": 1,
   "metadata": {},
   "outputs": [],
   "source": [
    "import numpy as np\n",
    "from sklearn import datasets\n",
    "from sklearn.neighbors import KNeighborsClassifier\n",
    "from sklearn.metrics import accuracy_score\n",
    "from sklearn.svm import SVC\n",
    "from sklearn.ensemble import RandomForestClassifier\n",
    "from collections import Counter"
   ]
  },
  {
   "cell_type": "markdown",
   "metadata": {},
   "source": [
    "## Question 1"
   ]
  },
  {
   "cell_type": "code",
   "execution_count": 2,
   "metadata": {
    "collapsed": true
   },
   "outputs": [],
   "source": [
    "class MajorityClassifier:\n",
    "    def __init__(self):\n",
    "        self.maj = 0\n",
    "    def fit(self, X, Y):\n",
    "        z = Counter (Y)\n",
    "        print z\n",
    "        self.maj = max(z, key=z.get)\n",
    "        return self\n",
    "    def predict(self, X):\n",
    "        y = []\n",
    "        for i in range(len(X)):\n",
    "            y.append(self.maj)\n",
    "        return y"
   ]
  },
  {
   "cell_type": "code",
   "execution_count": 3,
   "metadata": {},
   "outputs": [
    {
     "data": {
      "text/plain": [
       "array([0, 1])"
      ]
     },
     "execution_count": 3,
     "metadata": {},
     "output_type": "execute_result"
    }
   ],
   "source": [
    "#iris = datasets.load_iris()\n",
    "cancer = datasets.load_breast_cancer()\n",
    "X = cancer.data\n",
    "y = cancer.target\n",
    "np.random.seed(0)\n",
    "indices = np.random.permutation(len(X))\n",
    "X_train = X[indices[:-10]]\n",
    "y_train = y[indices[:-10]]\n",
    "X_test = X[indices[-10:]]\n",
    "y_test = y[indices[-10:]]\n",
    "np.unique(y_test)"
   ]
  },
  {
   "cell_type": "code",
   "execution_count": 4,
   "metadata": {},
   "outputs": [
    {
     "name": "stdout",
     "output_type": "stream",
     "text": [
      "Counter({1: 350, 0: 209})\n"
     ]
    },
    {
     "data": {
      "text/plain": [
       "<__main__.MajorityClassifier instance at 0x7f738db995f0>"
      ]
     },
     "execution_count": 4,
     "metadata": {},
     "output_type": "execute_result"
    }
   ],
   "source": [
    "maj = MajorityClassifier()\n",
    "maj.fit(X_train, y_train)"
   ]
  },
  {
   "cell_type": "code",
   "execution_count": 5,
   "metadata": {},
   "outputs": [
    {
     "data": {
      "text/plain": [
       "[1, 1, 1, 1, 1, 1, 1, 1, 1, 1]"
      ]
     },
     "execution_count": 5,
     "metadata": {},
     "output_type": "execute_result"
    }
   ],
   "source": [
    "maj.predict(X_test)"
   ]
  },
  {
   "cell_type": "markdown",
   "metadata": {},
   "source": [
    "## Question 2"
   ]
  },
  {
   "cell_type": "code",
   "execution_count": 6,
   "metadata": {},
   "outputs": [
    {
     "name": "stdout",
     "output_type": "stream",
     "text": [
      "Majority class is  1\n",
      "Class selected by the classifier is  1\n"
     ]
    }
   ],
   "source": [
    "counter = Counter (y_train)\n",
    "majority_class = max(counter, key=counter.get)\n",
    "print \"Majority class is \", majority_class\n",
    "print \"Class selected by the classifier is \", maj.maj"
   ]
  },
  {
   "cell_type": "markdown",
   "metadata": {},
   "source": [
    "## Question 3"
   ]
  },
  {
   "cell_type": "code",
   "execution_count": 7,
   "metadata": {},
   "outputs": [],
   "source": [
    "class BetterClassifier:\n",
    "    def __init__(self):\n",
    "        self.svc = SVC()\n",
    "        self.knn = KNeighborsClassifier() \n",
    "        self.rf = RandomForestClassifier()\n",
    "        self.m = []\n",
    "    def fit(self, X, Y):\n",
    "        self.svc.fit(X,Y)\n",
    "        self.knn.fit(X,Y)\n",
    "        self.rf.fit(X,Y)\n",
    "        return self\n",
    "    def predict(self,X):\n",
    "        self.m.append(self.svc.predict(X))\n",
    "        #print(self.svc.predict(X))\n",
    "        self.m.append(self.knn.predict(X))\n",
    "        #print(self.knn.predict(X))\n",
    "        self.m.append(self.rf.predict(X))\n",
    "        #print self.rf.predict(X)\n",
    "        y=[]\n",
    "        #print \"Length of self.m[0] = \", len(self.m[0])\n",
    "        for i in range(len(self.m[0])):\n",
    "            #print \"Predictions: \", [self.m[0][i], self.m[1][i], self.m[2][i]]\n",
    "            z = Counter ( [self.m[0][i], self.m[1][i], self.m[2][i] ])\n",
    "            #print z\n",
    "            k = max(z, key=z.get)\n",
    "            #print k\n",
    "            y.append(k)\n",
    "        return y"
   ]
  },
  {
   "cell_type": "code",
   "execution_count": 8,
   "metadata": {},
   "outputs": [
    {
     "data": {
      "text/plain": [
       "<__main__.BetterClassifier instance at 0x7f738db99680>"
      ]
     },
     "execution_count": 8,
     "metadata": {},
     "output_type": "execute_result"
    }
   ],
   "source": [
    "clf = BetterClassifier()\n",
    "clf.fit(X_train, y_train)"
   ]
  },
  {
   "cell_type": "code",
   "execution_count": 9,
   "metadata": {},
   "outputs": [
    {
     "data": {
      "text/plain": [
       "[1, 1, 1, 1, 0, 0, 0, 1, 1, 1]"
      ]
     },
     "execution_count": 9,
     "metadata": {},
     "output_type": "execute_result"
    }
   ],
   "source": [
    "clf.predict(X_test)"
   ]
  },
  {
   "cell_type": "code",
   "execution_count": 10,
   "metadata": {},
   "outputs": [
    {
     "name": "stdout",
     "output_type": "stream",
     "text": [
      "{'Better Classifier': 1.0, 'Majority Classifier ': 0.69999999999999996}\n",
      "Best estimator is:  Better Classifier\n"
     ]
    }
   ],
   "source": [
    "scores = {\"Majority Classifier \":accuracy_score(y_test, maj.predict(X_test)),\"Better Classifier\":accuracy_score(y_test, clf.predict(X_test))}\n",
    "print scores\n",
    "print \"Best estimator is: \", max(scores, key=scores.get)"
   ]
  }
 ],
 "metadata": {
  "kernelspec": {
   "display_name": "Python 2",
   "language": "python",
   "name": "python2"
  },
  "language_info": {
   "codemirror_mode": {
    "name": "ipython",
    "version": 2
   },
   "file_extension": ".py",
   "mimetype": "text/x-python",
   "name": "python",
   "nbconvert_exporter": "python",
   "pygments_lexer": "ipython2",
   "version": "2.7.13"
  }
 },
 "nbformat": 4,
 "nbformat_minor": 2
}
